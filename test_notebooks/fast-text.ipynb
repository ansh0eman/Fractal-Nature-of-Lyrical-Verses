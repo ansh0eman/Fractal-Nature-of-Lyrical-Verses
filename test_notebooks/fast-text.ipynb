{
 "cells": [
  {
   "cell_type": "markdown",
   "metadata": {},
   "source": [
    "## PreProcessing"
   ]
  },
  {
   "cell_type": "code",
   "execution_count": 31,
   "metadata": {},
   "outputs": [
    {
     "data": {
      "text/html": [
       "<div>\n",
       "<style scoped>\n",
       "    .dataframe tbody tr th:only-of-type {\n",
       "        vertical-align: middle;\n",
       "    }\n",
       "\n",
       "    .dataframe tbody tr th {\n",
       "        vertical-align: top;\n",
       "    }\n",
       "\n",
       "    .dataframe thead th {\n",
       "        text-align: right;\n",
       "    }\n",
       "</style>\n",
       "<table border=\"1\" class=\"dataframe\">\n",
       "  <thead>\n",
       "    <tr style=\"text-align: right;\">\n",
       "      <th></th>\n",
       "      <th>Work Title</th>\n",
       "      <th>Subdivision Title</th>\n",
       "      <th>Line</th>\n",
       "      <th>Lyrics</th>\n",
       "    </tr>\n",
       "  </thead>\n",
       "  <tbody>\n",
       "    <tr>\n",
       "      <th>0</th>\n",
       "      <td>green eggs and ham by doctor seuss</td>\n",
       "      <td>stanza 1</td>\n",
       "      <td>i am sam i am sam sam i am</td>\n",
       "      <td>i am sam i am sam sam i am</td>\n",
       "    </tr>\n",
       "    <tr>\n",
       "      <th>1</th>\n",
       "      <td>green eggs and ham by doctor seuss</td>\n",
       "      <td>stanza 2</td>\n",
       "      <td>that samiam that samiam i do not like that samiam</td>\n",
       "      <td>that samiam that samiam i do not like that samiam</td>\n",
       "    </tr>\n",
       "    <tr>\n",
       "      <th>2</th>\n",
       "      <td>green eggs and ham by doctor seuss</td>\n",
       "      <td>stanza 3</td>\n",
       "      <td>do would you like green eggs and ham</td>\n",
       "      <td>do would you like green eggs and ham</td>\n",
       "    </tr>\n",
       "    <tr>\n",
       "      <th>3</th>\n",
       "      <td>green eggs and ham by doctor seuss</td>\n",
       "      <td>stanza 4</td>\n",
       "      <td>i do not like themsamiam</td>\n",
       "      <td>i do not like themsamiam i do not like green e...</td>\n",
       "    </tr>\n",
       "    <tr>\n",
       "      <th>5</th>\n",
       "      <td>green eggs and ham by doctor seuss</td>\n",
       "      <td>stanza 5</td>\n",
       "      <td>would you like them here or there</td>\n",
       "      <td>would you like them here or there</td>\n",
       "    </tr>\n",
       "  </tbody>\n",
       "</table>\n",
       "</div>"
      ],
      "text/plain": [
       "                           Work Title Subdivision Title  \\\n",
       "0  green eggs and ham by doctor seuss          stanza 1   \n",
       "1  green eggs and ham by doctor seuss          stanza 2   \n",
       "2  green eggs and ham by doctor seuss          stanza 3   \n",
       "3  green eggs and ham by doctor seuss          stanza 4   \n",
       "5  green eggs and ham by doctor seuss          stanza 5   \n",
       "\n",
       "                                                Line  \\\n",
       "0                         i am sam i am sam sam i am   \n",
       "1  that samiam that samiam i do not like that samiam   \n",
       "2               do would you like green eggs and ham   \n",
       "3                           i do not like themsamiam   \n",
       "5                  would you like them here or there   \n",
       "\n",
       "                                              Lyrics  \n",
       "0                         i am sam i am sam sam i am  \n",
       "1  that samiam that samiam i do not like that samiam  \n",
       "2               do would you like green eggs and ham  \n",
       "3  i do not like themsamiam i do not like green e...  \n",
       "5                  would you like them here or there  "
      ]
     },
     "execution_count": 31,
     "metadata": {},
     "output_type": "execute_result"
    }
   ],
   "source": [
    "import pandas as pd\n",
    "\n",
    "# Load the CSV file\n",
    "df = pd.read_csv('../Lyrical_Verses_csv/Enumerated_GreenEggsAndHam.csv')\n",
    "\n",
    "# Combine all lines from the same work and subdivision\n",
    "df['Lyrics'] = df.groupby(['Work Title', 'Subdivision Title'])['Line'].transform(lambda x: ' '.join(x))\n",
    "\n",
    "# Drop duplicates to keep only combined lyrics for each subdivision\n",
    "df = df.drop_duplicates(subset=['Work Title', 'Subdivision Title', 'Lyrics'])\n",
    "\n",
    "df.head()\n"
   ]
  },
  {
   "cell_type": "markdown",
   "metadata": {},
   "source": [
    "**Word Tokenizer**"
   ]
  },
  {
   "cell_type": "code",
   "execution_count": 32,
   "metadata": {},
   "outputs": [
    {
     "name": "stderr",
     "output_type": "stream",
     "text": [
      "[nltk_data] Downloading package punkt to\n",
      "[nltk_data]     C:\\Users\\anshu\\AppData\\Roaming\\nltk_data...\n",
      "[nltk_data]   Package punkt is already up-to-date!\n"
     ]
    },
    {
     "data": {
      "text/html": [
       "<div>\n",
       "<style scoped>\n",
       "    .dataframe tbody tr th:only-of-type {\n",
       "        vertical-align: middle;\n",
       "    }\n",
       "\n",
       "    .dataframe tbody tr th {\n",
       "        vertical-align: top;\n",
       "    }\n",
       "\n",
       "    .dataframe thead th {\n",
       "        text-align: right;\n",
       "    }\n",
       "</style>\n",
       "<table border=\"1\" class=\"dataframe\">\n",
       "  <thead>\n",
       "    <tr style=\"text-align: right;\">\n",
       "      <th></th>\n",
       "      <th>Work Title</th>\n",
       "      <th>Subdivision Title</th>\n",
       "      <th>Line</th>\n",
       "      <th>Lyrics</th>\n",
       "      <th>word_tokens</th>\n",
       "    </tr>\n",
       "  </thead>\n",
       "  <tbody>\n",
       "    <tr>\n",
       "      <th>0</th>\n",
       "      <td>green eggs and ham by doctor seuss</td>\n",
       "      <td>stanza 1</td>\n",
       "      <td>i am sam i am sam sam i am</td>\n",
       "      <td>i am sam i am sam sam i am</td>\n",
       "      <td>[i, am, sam, i, am, sam, sam, i, am]</td>\n",
       "    </tr>\n",
       "    <tr>\n",
       "      <th>1</th>\n",
       "      <td>green eggs and ham by doctor seuss</td>\n",
       "      <td>stanza 2</td>\n",
       "      <td>that samiam that samiam i do not like that samiam</td>\n",
       "      <td>that samiam that samiam i do not like that samiam</td>\n",
       "      <td>[that, samiam, that, samiam, i, do, not, like,...</td>\n",
       "    </tr>\n",
       "    <tr>\n",
       "      <th>2</th>\n",
       "      <td>green eggs and ham by doctor seuss</td>\n",
       "      <td>stanza 3</td>\n",
       "      <td>do would you like green eggs and ham</td>\n",
       "      <td>do would you like green eggs and ham</td>\n",
       "      <td>[do, would, you, like, green, eggs, and, ham]</td>\n",
       "    </tr>\n",
       "    <tr>\n",
       "      <th>3</th>\n",
       "      <td>green eggs and ham by doctor seuss</td>\n",
       "      <td>stanza 4</td>\n",
       "      <td>i do not like themsamiam</td>\n",
       "      <td>i do not like themsamiam i do not like green e...</td>\n",
       "      <td>[i, do, not, like, themsamiam, i, do, not, lik...</td>\n",
       "    </tr>\n",
       "    <tr>\n",
       "      <th>5</th>\n",
       "      <td>green eggs and ham by doctor seuss</td>\n",
       "      <td>stanza 5</td>\n",
       "      <td>would you like them here or there</td>\n",
       "      <td>would you like them here or there</td>\n",
       "      <td>[would, you, like, them, here, or, there]</td>\n",
       "    </tr>\n",
       "  </tbody>\n",
       "</table>\n",
       "</div>"
      ],
      "text/plain": [
       "                           Work Title Subdivision Title  \\\n",
       "0  green eggs and ham by doctor seuss          stanza 1   \n",
       "1  green eggs and ham by doctor seuss          stanza 2   \n",
       "2  green eggs and ham by doctor seuss          stanza 3   \n",
       "3  green eggs and ham by doctor seuss          stanza 4   \n",
       "5  green eggs and ham by doctor seuss          stanza 5   \n",
       "\n",
       "                                                Line  \\\n",
       "0                         i am sam i am sam sam i am   \n",
       "1  that samiam that samiam i do not like that samiam   \n",
       "2               do would you like green eggs and ham   \n",
       "3                           i do not like themsamiam   \n",
       "5                  would you like them here or there   \n",
       "\n",
       "                                              Lyrics  \\\n",
       "0                         i am sam i am sam sam i am   \n",
       "1  that samiam that samiam i do not like that samiam   \n",
       "2               do would you like green eggs and ham   \n",
       "3  i do not like themsamiam i do not like green e...   \n",
       "5                  would you like them here or there   \n",
       "\n",
       "                                         word_tokens  \n",
       "0               [i, am, sam, i, am, sam, sam, i, am]  \n",
       "1  [that, samiam, that, samiam, i, do, not, like,...  \n",
       "2      [do, would, you, like, green, eggs, and, ham]  \n",
       "3  [i, do, not, like, themsamiam, i, do, not, lik...  \n",
       "5          [would, you, like, them, here, or, there]  "
      ]
     },
     "execution_count": 32,
     "metadata": {},
     "output_type": "execute_result"
    }
   ],
   "source": [
    "import nltk\n",
    "from nltk.tokenize import word_tokenize\n",
    "nltk.download('punkt')\n",
    "\n",
    "# Tokenize the lyrics\n",
    "df['word_tokens'] = df['Lyrics'].apply(lambda x: word_tokenize(x.lower()))\n",
    "\n",
    "# Display the dataframe\n",
    "df.head()\n"
   ]
  },
  {
   "cell_type": "markdown",
   "metadata": {},
   "source": [
    "**custom tokenizer to handle word and line-level tokenization, and to capture repeated phrases.**"
   ]
  },
  {
   "cell_type": "code",
   "execution_count": 33,
   "metadata": {},
   "outputs": [
    {
     "data": {
      "text/html": [
       "<div>\n",
       "<style scoped>\n",
       "    .dataframe tbody tr th:only-of-type {\n",
       "        vertical-align: middle;\n",
       "    }\n",
       "\n",
       "    .dataframe tbody tr th {\n",
       "        vertical-align: top;\n",
       "    }\n",
       "\n",
       "    .dataframe thead th {\n",
       "        text-align: right;\n",
       "    }\n",
       "</style>\n",
       "<table border=\"1\" class=\"dataframe\">\n",
       "  <thead>\n",
       "    <tr style=\"text-align: right;\">\n",
       "      <th></th>\n",
       "      <th>Work Title</th>\n",
       "      <th>Subdivision Title</th>\n",
       "      <th>Line</th>\n",
       "      <th>Lyrics</th>\n",
       "      <th>word_tokens</th>\n",
       "      <th>Tokens_0</th>\n",
       "    </tr>\n",
       "  </thead>\n",
       "  <tbody>\n",
       "    <tr>\n",
       "      <th>0</th>\n",
       "      <td>green eggs and ham by doctor seuss</td>\n",
       "      <td>stanza 1</td>\n",
       "      <td>i am sam i am sam sam i am</td>\n",
       "      <td>i am sam i am sam sam i am</td>\n",
       "      <td>[i, am, sam, i, am, sam, sam, i, am]</td>\n",
       "      <td>[i, am, sam, i, am, sam, sam, i, am, i am sam ...</td>\n",
       "    </tr>\n",
       "    <tr>\n",
       "      <th>1</th>\n",
       "      <td>green eggs and ham by doctor seuss</td>\n",
       "      <td>stanza 2</td>\n",
       "      <td>that samiam that samiam i do not like that samiam</td>\n",
       "      <td>that samiam that samiam i do not like that samiam</td>\n",
       "      <td>[that, samiam, that, samiam, i, do, not, like,...</td>\n",
       "      <td>[that, samiam, that, samiam, i, do, not, like,...</td>\n",
       "    </tr>\n",
       "    <tr>\n",
       "      <th>2</th>\n",
       "      <td>green eggs and ham by doctor seuss</td>\n",
       "      <td>stanza 3</td>\n",
       "      <td>do would you like green eggs and ham</td>\n",
       "      <td>do would you like green eggs and ham</td>\n",
       "      <td>[do, would, you, like, green, eggs, and, ham]</td>\n",
       "      <td>[do, would, you, like, green, eggs, and, ham, ...</td>\n",
       "    </tr>\n",
       "    <tr>\n",
       "      <th>3</th>\n",
       "      <td>green eggs and ham by doctor seuss</td>\n",
       "      <td>stanza 4</td>\n",
       "      <td>i do not like themsamiam</td>\n",
       "      <td>i do not like themsamiam i do not like green e...</td>\n",
       "      <td>[i, do, not, like, themsamiam, i, do, not, lik...</td>\n",
       "      <td>[i, do, not, like, themsamiam, i, do, not, lik...</td>\n",
       "    </tr>\n",
       "    <tr>\n",
       "      <th>5</th>\n",
       "      <td>green eggs and ham by doctor seuss</td>\n",
       "      <td>stanza 5</td>\n",
       "      <td>would you like them here or there</td>\n",
       "      <td>would you like them here or there</td>\n",
       "      <td>[would, you, like, them, here, or, there]</td>\n",
       "      <td>[would, you, like, them, here, or, there, woul...</td>\n",
       "    </tr>\n",
       "  </tbody>\n",
       "</table>\n",
       "</div>"
      ],
      "text/plain": [
       "                           Work Title Subdivision Title  \\\n",
       "0  green eggs and ham by doctor seuss          stanza 1   \n",
       "1  green eggs and ham by doctor seuss          stanza 2   \n",
       "2  green eggs and ham by doctor seuss          stanza 3   \n",
       "3  green eggs and ham by doctor seuss          stanza 4   \n",
       "5  green eggs and ham by doctor seuss          stanza 5   \n",
       "\n",
       "                                                Line  \\\n",
       "0                         i am sam i am sam sam i am   \n",
       "1  that samiam that samiam i do not like that samiam   \n",
       "2               do would you like green eggs and ham   \n",
       "3                           i do not like themsamiam   \n",
       "5                  would you like them here or there   \n",
       "\n",
       "                                              Lyrics  \\\n",
       "0                         i am sam i am sam sam i am   \n",
       "1  that samiam that samiam i do not like that samiam   \n",
       "2               do would you like green eggs and ham   \n",
       "3  i do not like themsamiam i do not like green e...   \n",
       "5                  would you like them here or there   \n",
       "\n",
       "                                         word_tokens  \\\n",
       "0               [i, am, sam, i, am, sam, sam, i, am]   \n",
       "1  [that, samiam, that, samiam, i, do, not, like,...   \n",
       "2      [do, would, you, like, green, eggs, and, ham]   \n",
       "3  [i, do, not, like, themsamiam, i, do, not, lik...   \n",
       "5          [would, you, like, them, here, or, there]   \n",
       "\n",
       "                                            Tokens_0  \n",
       "0  [i, am, sam, i, am, sam, sam, i, am, i am sam ...  \n",
       "1  [that, samiam, that, samiam, i, do, not, like,...  \n",
       "2  [do, would, you, like, green, eggs, and, ham, ...  \n",
       "3  [i, do, not, like, themsamiam, i, do, not, lik...  \n",
       "5  [would, you, like, them, here, or, there, woul...  "
      ]
     },
     "execution_count": 33,
     "metadata": {},
     "output_type": "execute_result"
    }
   ],
   "source": [
    "def custom_tokenize(lyrics):\n",
    "    # Tokenize into lines first\n",
    "    lines = lyrics.split('\\n')\n",
    "    all_tokens = []\n",
    "    \n",
    "    for line in lines:\n",
    "        # Tokenize each line into words\n",
    "        words = word_tokenize(line.lower())\n",
    "        all_tokens.extend(words)\n",
    "        \n",
    "        # Additional custom tokenization logic can go here\n",
    "        # For example, capturing phrases or handling rhymes\n",
    "        phrases = line.split(',')\n",
    "        all_tokens.extend(phrases)\n",
    "    \n",
    "    return all_tokens\n",
    "\n",
    "# Apply custom tokenization to the lyrics\n",
    "df['Tokens_0'] = df['Lyrics'].apply(custom_tokenize)\n",
    "\n",
    "# Display the dataframe with tokens\n",
    "df.head()\n"
   ]
  },
  {
   "cell_type": "markdown",
   "metadata": {},
   "source": [
    "**1. Word Tokenizer: To capture individual words and their repetitions.**\n",
    "\n",
    "**2. Sentence/Line Tokenizer: To capture the structure of verses and lines.**\n",
    "\n",
    "**3. Custom Tokenizer: To capture common phrases and rhymes.**"
   ]
  },
  {
   "cell_type": "markdown",
   "metadata": {},
   "source": [
    "**"
   ]
  },
  {
   "cell_type": "code",
   "execution_count": 34,
   "metadata": {},
   "outputs": [
    {
     "name": "stderr",
     "output_type": "stream",
     "text": [
      "[nltk_data] Downloading package punkt to\n",
      "[nltk_data]     C:\\Users\\anshu\\AppData\\Roaming\\nltk_data...\n",
      "[nltk_data]   Package punkt is already up-to-date!\n"
     ]
    },
    {
     "data": {
      "text/html": [
       "<div>\n",
       "<style scoped>\n",
       "    .dataframe tbody tr th:only-of-type {\n",
       "        vertical-align: middle;\n",
       "    }\n",
       "\n",
       "    .dataframe tbody tr th {\n",
       "        vertical-align: top;\n",
       "    }\n",
       "\n",
       "    .dataframe thead th {\n",
       "        text-align: right;\n",
       "    }\n",
       "</style>\n",
       "<table border=\"1\" class=\"dataframe\">\n",
       "  <thead>\n",
       "    <tr style=\"text-align: right;\">\n",
       "      <th></th>\n",
       "      <th>Work Title</th>\n",
       "      <th>Subdivision Title</th>\n",
       "      <th>Line</th>\n",
       "      <th>Lyrics</th>\n",
       "      <th>word_tokens</th>\n",
       "      <th>Tokens_0</th>\n",
       "      <th>Tokens_1</th>\n",
       "    </tr>\n",
       "  </thead>\n",
       "  <tbody>\n",
       "    <tr>\n",
       "      <th>0</th>\n",
       "      <td>green eggs and ham by doctor seuss</td>\n",
       "      <td>stanza 1</td>\n",
       "      <td>i am sam i am sam sam i am</td>\n",
       "      <td>i am sam i am sam sam i am</td>\n",
       "      <td>[i, am, sam, i, am, sam, sam, i, am]</td>\n",
       "      <td>[i, am, sam, i, am, sam, sam, i, am, i am sam ...</td>\n",
       "      <td>[i, am, sam, i, am, sam, sam, i, am, i am sam ...</td>\n",
       "    </tr>\n",
       "    <tr>\n",
       "      <th>1</th>\n",
       "      <td>green eggs and ham by doctor seuss</td>\n",
       "      <td>stanza 2</td>\n",
       "      <td>that samiam that samiam i do not like that samiam</td>\n",
       "      <td>that samiam that samiam i do not like that samiam</td>\n",
       "      <td>[that, samiam, that, samiam, i, do, not, like,...</td>\n",
       "      <td>[that, samiam, that, samiam, i, do, not, like,...</td>\n",
       "      <td>[that, samiam, that, samiam, i, do, not, like,...</td>\n",
       "    </tr>\n",
       "    <tr>\n",
       "      <th>2</th>\n",
       "      <td>green eggs and ham by doctor seuss</td>\n",
       "      <td>stanza 3</td>\n",
       "      <td>do would you like green eggs and ham</td>\n",
       "      <td>do would you like green eggs and ham</td>\n",
       "      <td>[do, would, you, like, green, eggs, and, ham]</td>\n",
       "      <td>[do, would, you, like, green, eggs, and, ham, ...</td>\n",
       "      <td>[do, would, you, like, green, eggs, and, ham, ...</td>\n",
       "    </tr>\n",
       "    <tr>\n",
       "      <th>3</th>\n",
       "      <td>green eggs and ham by doctor seuss</td>\n",
       "      <td>stanza 4</td>\n",
       "      <td>i do not like themsamiam</td>\n",
       "      <td>i do not like themsamiam i do not like green e...</td>\n",
       "      <td>[i, do, not, like, themsamiam, i, do, not, lik...</td>\n",
       "      <td>[i, do, not, like, themsamiam, i, do, not, lik...</td>\n",
       "      <td>[i, do, not, like, themsamiam, i, do, not, lik...</td>\n",
       "    </tr>\n",
       "    <tr>\n",
       "      <th>5</th>\n",
       "      <td>green eggs and ham by doctor seuss</td>\n",
       "      <td>stanza 5</td>\n",
       "      <td>would you like them here or there</td>\n",
       "      <td>would you like them here or there</td>\n",
       "      <td>[would, you, like, them, here, or, there]</td>\n",
       "      <td>[would, you, like, them, here, or, there, woul...</td>\n",
       "      <td>[would, you, like, them, here, or, there, woul...</td>\n",
       "    </tr>\n",
       "  </tbody>\n",
       "</table>\n",
       "</div>"
      ],
      "text/plain": [
       "                           Work Title Subdivision Title  \\\n",
       "0  green eggs and ham by doctor seuss          stanza 1   \n",
       "1  green eggs and ham by doctor seuss          stanza 2   \n",
       "2  green eggs and ham by doctor seuss          stanza 3   \n",
       "3  green eggs and ham by doctor seuss          stanza 4   \n",
       "5  green eggs and ham by doctor seuss          stanza 5   \n",
       "\n",
       "                                                Line  \\\n",
       "0                         i am sam i am sam sam i am   \n",
       "1  that samiam that samiam i do not like that samiam   \n",
       "2               do would you like green eggs and ham   \n",
       "3                           i do not like themsamiam   \n",
       "5                  would you like them here or there   \n",
       "\n",
       "                                              Lyrics  \\\n",
       "0                         i am sam i am sam sam i am   \n",
       "1  that samiam that samiam i do not like that samiam   \n",
       "2               do would you like green eggs and ham   \n",
       "3  i do not like themsamiam i do not like green e...   \n",
       "5                  would you like them here or there   \n",
       "\n",
       "                                         word_tokens  \\\n",
       "0               [i, am, sam, i, am, sam, sam, i, am]   \n",
       "1  [that, samiam, that, samiam, i, do, not, like,...   \n",
       "2      [do, would, you, like, green, eggs, and, ham]   \n",
       "3  [i, do, not, like, themsamiam, i, do, not, lik...   \n",
       "5          [would, you, like, them, here, or, there]   \n",
       "\n",
       "                                            Tokens_0  \\\n",
       "0  [i, am, sam, i, am, sam, sam, i, am, i am sam ...   \n",
       "1  [that, samiam, that, samiam, i, do, not, like,...   \n",
       "2  [do, would, you, like, green, eggs, and, ham, ...   \n",
       "3  [i, do, not, like, themsamiam, i, do, not, lik...   \n",
       "5  [would, you, like, them, here, or, there, woul...   \n",
       "\n",
       "                                            Tokens_1  \n",
       "0  [i, am, sam, i, am, sam, sam, i, am, i am sam ...  \n",
       "1  [that, samiam, that, samiam, i, do, not, like,...  \n",
       "2  [do, would, you, like, green, eggs, and, ham, ...  \n",
       "3  [i, do, not, like, themsamiam, i, do, not, lik...  \n",
       "5  [would, you, like, them, here, or, there, woul...  "
      ]
     },
     "execution_count": 34,
     "metadata": {},
     "output_type": "execute_result"
    }
   ],
   "source": [
    "import nltk\n",
    "from nltk.tokenize import word_tokenize, sent_tokenize\n",
    "nltk.download('punkt')\n",
    "\n",
    "def custom_tokenize(lyrics):\n",
    "    # Tokenize into sentences\n",
    "    sentences = sent_tokenize(lyrics)\n",
    "    all_tokens = []\n",
    "    \n",
    "    for sentence in sentences:\n",
    "        # Tokenize each sentence into words\n",
    "        words = word_tokenize(sentence.lower())\n",
    "        all_tokens.extend(words)\n",
    "        \n",
    "        # Additional custom tokenization logic can go here\n",
    "        # For example, splitting into phrases or handling rhymes\n",
    "        # Example: Split by common phrases or line breaks\n",
    "        phrases = sentence.split(',')\n",
    "        all_tokens.extend(phrases)\n",
    "    \n",
    "    return all_tokens\n",
    "\n",
    "# Apply custom tokenization to the lyrics\n",
    "df['Tokens_1'] = df['Lyrics'].apply(custom_tokenize)\n",
    "\n",
    "# Display the dataframe\n",
    "df.head()\n"
   ]
  },
  {
   "cell_type": "markdown",
   "metadata": {},
   "source": [
    "**Train FastText Model on Tokenized Lyrics**"
   ]
  },
  {
   "cell_type": "markdown",
   "metadata": {},
   "source": [
    "1. using custom tokenizer_0"
   ]
  },
  {
   "cell_type": "code",
   "execution_count": 35,
   "metadata": {},
   "outputs": [],
   "source": [
    "from gensim.models import FastText\n",
    "\n",
    "# Prepare data for FastText\n",
    "sentences = df['Tokens_0'].tolist()\n",
    "\n",
    "# Train FastText model\n",
    "model_0 = FastText(sentences, vector_size=100, window=5, min_count=1, workers=4)\n",
    "\n",
    "# Prepare data for FastText\n",
    "sentences = df['Tokens_1'].tolist()\n",
    "\n",
    "# Train FastText model\n",
    "model_1 = FastText(sentences, vector_size=100, window=5, min_count=1, workers=4)\n",
    "\n",
    "sentences = df['word_tokens'].tolist()\n",
    "\n",
    "# Train FastText model\n",
    "model_word = FastText(sentences, vector_size=100, window=5, min_count=1, workers=4)\n",
    "\n"
   ]
  },
  {
   "cell_type": "markdown",
   "metadata": {},
   "source": [
    "**Recurrence Plot and Self-Similarity Matrix**"
   ]
  },
  {
   "cell_type": "code",
   "execution_count": 36,
   "metadata": {},
   "outputs": [],
   "source": [
    "import numpy as np\n",
    "import seaborn as sns\n",
    "import matplotlib.pyplot as plt\n",
    "\n",
    "def create_recurrence_plot(tokens, embedding_model):\n",
    "    vectors = [embedding_model.wv[token] for token in tokens if token in embedding_model.wv]\n",
    "    similarity_matrix = np.inner(vectors, vectors)\n",
    "    return similarity_matrix\n",
    "\n",
    "def create_self_similarity_matrix(tokens, embedding_model):\n",
    "    vectors = [embedding_model.wv[token] for token in tokens if token in embedding_model.wv]\n",
    "    similarity_matrix = np.zeros((len(vectors), len(vectors)))\n",
    "    \n",
    "    for i in range(len(vectors)):\n",
    "        for j in range(len(vectors)):\n",
    "            similarity_matrix[i, j] = np.dot(vectors[i], vectors[j]) / (np.linalg.norm(vectors[i]) * np.linalg.norm(vectors[j]))\n",
    "    \n",
    "    return similarity_matrix"
   ]
  },
  {
   "cell_type": "markdown",
   "metadata": {},
   "source": [
    "Word Tokenizer model"
   ]
  },
  {
   "cell_type": "code",
   "execution_count": 37,
   "metadata": {},
   "outputs": [
    {
     "data": {
      "image/png": "[encoded data removed]",
      "text/plain": [
       "<Figure size 640x480 with 2 Axes>"
      ]
     },
     "metadata": {},
     "output_type": "display_data"
    },
    {
     "data": {
      "image/png": "[encoded data removed]",
      "text/plain": [
       "<Figure size 640x480 with 2 Axes>"
      ]
     },
     "metadata": {},
     "output_type": "display_data"
    }
   ],
   "source": [
    "# Select all tokens for the work title \"Karma Police\"\n",
    "specific_lyrics = df.loc[df['Work Title'] == 'green eggs and ham by doctor seuss', 'word_tokens'].values[0]\n",
    "\n",
    "# Create and plot recurrence plot\n",
    "similarity_matrix = create_recurrence_plot(specific_lyrics, model_word)\n",
    "sns.heatmap(similarity_matrix, cmap='viridis')\n",
    "plt.title(\"Recurrence Plot of 'Karma Police' Lyrics\")\n",
    "plt.show()\n",
    "\n",
    "# Create and plot self-similarity matrix\n",
    "self_similarity_matrix = create_self_similarity_matrix(specific_lyrics, model_word)\n",
    "sns.heatmap(self_similarity_matrix, cmap='coolwarm')\n",
    "plt.title(\"Self-Similarity Matrix of 'Karma Police' Lyrics\")\n",
    "plt.show()"
   ]
  },
  {
   "cell_type": "markdown",
   "metadata": {},
   "source": [
    "token_0"
   ]
  },
  {
   "cell_type": "code",
   "execution_count": 45,
   "metadata": {},
   "outputs": [
    {
     "data": {
      "image/png": "[encoded data removed]",
      "text/plain": [
       "<Figure size 640x480 with 2 Axes>"
      ]
     },
     "metadata": {},
     "output_type": "display_data"
    },
    {
     "data": {
      "image/png": "[encoded data removed]",
      "text/plain": [
       "<Figure size 640x480 with 2 Axes>"
      ]
     },
     "metadata": {},
     "output_type": "display_data"
    }
   ],
   "source": [
    "# Select all tokens for the work title \"Karma Police\"\n",
    "specific_lyrics = df.loc[df['Work Title'] == 'green eggs and ham by doctor seuss', 'Tokens_0'].values[0]\n",
    "\n",
    "# Create and plot recurrence plot\n",
    "similarity_matrix = create_recurrence_plot(specific_lyrics, model_word)\n",
    "sns.heatmap(similarity_matrix, cmap='viridis')\n",
    "plt.title(\"Recurrence Plot of 'Karma Police' Lyrics\")\n",
    "plt.show()\n",
    "\n",
    "# Create and plot self-similarity matrix\n",
    "self_similarity_matrix = create_self_similarity_matrix(specific_lyrics, model_word)\n",
    "sns.heatmap(self_similarity_matrix, cmap='viridis')\n",
    "plt.title(\"Self-Similarity Matrix of 'Karma Police' Lyrics\")\n",
    "plt.show()"
   ]
  },
  {
   "cell_type": "code",
   "execution_count": 44,
   "metadata": {},
   "outputs": [
    {
     "ename": "IndexError",
     "evalue": "index 0 is out of bounds for axis 0 with size 0",
     "output_type": "error",
     "traceback": [
      "\u001b[1;31m---------------------------------------------------------------------------\u001b[0m",
      "\u001b[1;31mIndexError\u001b[0m                                Traceback (most recent call last)",
      "Cell \u001b[1;32mIn[44], line 2\u001b[0m\n\u001b[0;32m      1\u001b[0m \u001b[38;5;66;03m# Select a specific work and subdivision\u001b[39;00m\n\u001b[1;32m----> 2\u001b[0m specific_lyrics \u001b[38;5;241m=\u001b[39m \u001b[43mdf\u001b[49m\u001b[38;5;241;43m.\u001b[39;49m\u001b[43mloc\u001b[49m\u001b[43m[\u001b[49m\u001b[43m(\u001b[49m\u001b[43mdf\u001b[49m\u001b[43m[\u001b[49m\u001b[38;5;124;43m'\u001b[39;49m\u001b[38;5;124;43mWork Title\u001b[39;49m\u001b[38;5;124;43m'\u001b[39;49m\u001b[43m]\u001b[49m\u001b[43m \u001b[49m\u001b[38;5;241;43m==\u001b[39;49m\u001b[43m \u001b[49m\u001b[38;5;124;43m'\u001b[39;49m\u001b[38;5;124;43mkarma police\u001b[39;49m\u001b[38;5;124;43m'\u001b[39;49m\u001b[43m)\u001b[49m\u001b[43m \u001b[49m\u001b[38;5;241;43m&\u001b[39;49m\u001b[43m \u001b[49m\u001b[43m(\u001b[49m\u001b[43mdf\u001b[49m\u001b[43m[\u001b[49m\u001b[38;5;124;43m'\u001b[39;49m\u001b[38;5;124;43mSubdivision Title\u001b[39;49m\u001b[38;5;124;43m'\u001b[39;49m\u001b[43m]\u001b[49m\u001b[43m \u001b[49m\u001b[38;5;241;43m==\u001b[39;49m\u001b[43m \u001b[49m\u001b[38;5;124;43m'\u001b[39;49m\u001b[38;5;124;43mverse 1\u001b[39;49m\u001b[38;5;124;43m'\u001b[39;49m\u001b[43m)\u001b[49m\u001b[43m,\u001b[49m\u001b[43m \u001b[49m\u001b[38;5;124;43m'\u001b[39;49m\u001b[38;5;124;43mword_tokens\u001b[39;49m\u001b[38;5;124;43m'\u001b[39;49m\u001b[43m]\u001b[49m\u001b[38;5;241;43m.\u001b[39;49m\u001b[43mvalues\u001b[49m\u001b[43m[\u001b[49m\u001b[38;5;241;43m0\u001b[39;49m\u001b[43m]\u001b[49m\n\u001b[0;32m      4\u001b[0m \u001b[38;5;66;03m# Create and plot recurrence plot\u001b[39;00m\n\u001b[0;32m      5\u001b[0m similarity_matrix \u001b[38;5;241m=\u001b[39m create_recurrence_plot(specific_lyrics, model_1)\n",
      "\u001b[1;31mIndexError\u001b[0m: index 0 is out of bounds for axis 0 with size 0"
     ]
    }
   ],
   "source": [
    "\n",
    "# Select a specific work and subdivision\n",
    "specific_lyrics = df.loc[(df['Work Title'] == 'karma police') & (df['Subdivision Title'] == 'verse 1'), 'word_tokens'].values[0]\n",
    "\n",
    "# Create and plot recurrence plot\n",
    "similarity_matrix = create_recurrence_plot(specific_lyrics, model_1)\n",
    "sns.heatmap(similarity_matrix, cmap='viridis')\n",
    "plt.title(\"Recurrence Plot of Selected Lyrics\")\n",
    "plt.show()\n",
    "\n",
    "# Create and plot self-similarity matrix\n",
    "self_similarity_matrix = create_self_similarity_matrix(specific_lyrics, model_1)\n",
    "sns.heatmap(self_similarity_matrix, cmap='v')\n",
    "plt.title(\"Self-Similarity Matrix of Selected Lyrics\")\n",
    "plt.show()"
   ]
  },
  {
   "cell_type": "code",
   "execution_count": 46,
   "metadata": {},
   "outputs": [
    {
     "data": {
      "image/png": "[encoded data removed]",
      "text/plain": [
       "<Figure size 1000x700 with 1 Axes>"
      ]
     },
     "metadata": {},
     "output_type": "display_data"
    }
   ],
   "source": [
    "from scipy.cluster.hierarchy import dendrogram, linkage\n",
    "\n",
    "def hierarchical_clustering(similarity_matrix):\n",
    "    linked = linkage(similarity_matrix, 'ward')\n",
    "    plt.figure(figsize=(10, 7))\n",
    "    dendrogram(linked,\n",
    "               orientation='top',\n",
    "               distance_sort='descending',\n",
    "               show_leaf_counts=True)\n",
    "    plt.title(\"Hierarchical Clustering Dendrogram\")\n",
    "    plt.show()\n",
    "\n",
    "hierarchical_clustering(self_similarity_matrix)\n"
   ]
  },
  {
   "cell_type": "code",
   "execution_count": null,
   "metadata": {},
   "outputs": [],
   "source": []
  }
 ],
 "metadata": {
  "kernelspec": {
   "display_name": "Python 3",
   "language": "python",
   "name": "python3"
  },
  "language_info": {
   "codemirror_mode": {
    "name": "ipython",
    "version": 3
   },
   "file_extension": ".py",
   "mimetype": "text/x-python",
   "name": "python",
   "nbconvert_exporter": "python",
   "pygments_lexer": "ipython3",
   "version": "3.12.3"
  }
 },
 "nbformat": 4,
 "nbformat_minor": 2
}
