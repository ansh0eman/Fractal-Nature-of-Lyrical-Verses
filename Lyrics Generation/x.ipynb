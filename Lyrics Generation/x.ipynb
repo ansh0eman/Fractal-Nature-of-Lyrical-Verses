{
 "cells": [
  {
   "cell_type": "code",
   "execution_count": 1,
   "metadata": {},
   "outputs": [
    {
     "name": "stderr",
     "output_type": "stream",
     "text": [
      "<>:4: SyntaxWarning: invalid escape sequence '\\L'\n",
      "<>:4: SyntaxWarning: invalid escape sequence '\\L'\n",
      "C:\\Users\\anshu\\AppData\\Local\\Temp\\ipykernel_17232\\1932639874.py:4: SyntaxWarning: invalid escape sequence '\\L'\n",
      "  csv_file_path = \".\\Lyrics_csv\\Radiohead_lyrics.csv\"  # Replace with your CSV file path\n"
     ]
    },
    {
     "ename": "",
     "evalue": "",
     "output_type": "error",
     "traceback": [
      "\u001b[1;31mThe Kernel crashed while executing code in the current cell or a previous cell. \n",
      "\u001b[1;31mPlease review the code in the cell(s) to identify a possible cause of the failure. \n",
      "\u001b[1;31mClick <a href='https://aka.ms/vscodeJupyterKernelCrash'>here</a> for more info. \n",
      "\u001b[1;31mView Jupyter <a href='command:jupyter.viewOutput'>log</a> for further details."
     ]
    }
   ],
   "source": [
    "import pandas as pd\n",
    "\n",
    "# Load the CSV file\n",
    "csv_file_path = \".\\Lyrics_csv\\Radiohead_lyrics.csv\"  # Replace with your CSV file path\n",
    "df = pd.read_csv(csv_file_path)\n",
    "\n",
    "# Combine all lyrics for pretraining, retaining line breaks\n",
    "all_lyrics = df['Lyrics'].str.cat(sep='\\n\\n')\n",
    "\n",
    "# Save all artist's lyrics to a text file with UTF-8 encoding\n",
    "with open(\"artist_lyrics.txt\", \"w\", encoding=\"utf-8\") as file:\n",
    "    file.write(all_lyrics)\n",
    "\n",
    "# Extract and save specific song's lyrics\n",
    "specific_song_title = \"No Surprises\"  # Replace with the specific song title\n",
    "song_lyrics = df[df['Song'] == specific_song_title]['Lyrics'].values[0]\n",
    "with open(\"song_lyrics.txt\", \"w\", encoding=\"utf-8\") as file:\n",
    "    file.write(song_lyrics)\n"
   ]
  },
  {
   "cell_type": "code",
   "execution_count": 2,
   "metadata": {},
   "outputs": [
    {
     "data": {
      "application/vnd.jupyter.widget-view+json": {
       "model_id": "e1a503df1ba1479e9fad3be8a8db8ab1",
       "version_major": 2,
       "version_minor": 0
      },
      "text/plain": [
       "Loading checkpoint shards:   0%|          | 0/2 [00:00<?, ?it/s]"
      ]
     },
     "metadata": {},
     "output_type": "display_data"
    }
   ],
   "source": [
    "from transformers import AutoTokenizer, AutoModelForCausalLM, TextDataset, DataCollatorForLanguageModeling, Trainer, TrainingArguments\n",
    "\n",
    "# Load pre-trained Falcon model and tokenizer\n",
    "model_name = \"tiiuae/falcon-7b\"  # Specify model name\n",
    "tokenizer = AutoTokenizer.from_pretrained(model_name)\n",
    "model = AutoModelForCausalLM.from_pretrained(model_name)\n"
   ]
  },
  {
   "cell_type": "code",
   "execution_count": null,
   "metadata": {},
   "outputs": [],
   "source": [
    "def load_dataset(file_path, tokenizer, block_size=128):\n",
    "    return TextDataset(\n",
    "        tokenizer=tokenizer,\n",
    "        file_path=file_path,\n",
    "        block_size=block_size\n",
    "    )\n",
    "\n",
    "artist_lyrics_path = \"artist_lyrics.txt\"\n",
    "dataset = load_dataset(artist_lyrics_path, tokenizer)\n",
    "data_collator = DataCollatorForLanguageModeling(tokenizer=tokenizer, mlm=False)\n",
    "\n",
    "# Set up training arguments\n",
    "training_args = TrainingArguments(\n",
    "    output_dir=\"./falcon-artist\",\n",
    "    overwrite_output_dir=True,\n",
    "    num_train_epochs=3,\n",
    "    per_device_train_batch_size=2,\n",
    "    save_steps=10_000,\n",
    "    save_total_limit=2,\n",
    ")\n",
    "\n",
    "# Initialize Trainer\n",
    "trainer = Trainer(\n",
    "    model=model,\n",
    "    args=training_args,\n",
    "    data_collator=data_collator,\n",
    "    train_dataset=dataset,\n",
    ")\n",
    "\n",
    "# Train the model\n",
    "trainer.train()\n"
   ]
  },
  {
   "cell_type": "code",
   "execution_count": null,
   "metadata": {},
   "outputs": [],
   "source": [
    "# Path to the specific song's lyrics dataset\n",
    "song_lyrics_path = \"song_lyrics.txt\"\n",
    "song_dataset = load_dataset(song_lyrics_path, tokenizer)\n",
    "\n",
    "# Update training arguments for fine-tuning\n",
    "fine_tuning_args = TrainingArguments(\n",
    "    output_dir=\"./falcon-song\",\n",
    "    overwrite_output_dir=True,\n",
    "    num_train_epochs=3,\n",
    "    per_device_train_batch_size=2,\n",
    "    save_steps=10_000,\n",
    "    save_total_limit=2,\n",
    ")\n",
    "\n",
    "# Initialize Trainer for fine-tuning\n",
    "fine_tuner = Trainer(\n",
    "    model=model,\n",
    "    args=fine_tuning_args,\n",
    "    data_collator=data_collator,\n",
    "    train_dataset=song_dataset,\n",
    ")\n",
    "\n",
    "# Fine-tune the model\n",
    "fine_tuner.train()\n"
   ]
  }
 ],
 "metadata": {
  "kernelspec": {
   "display_name": "Python 3",
   "language": "python",
   "name": "python3"
  },
  "language_info": {
   "codemirror_mode": {
    "name": "ipython",
    "version": 3
   },
   "file_extension": ".py",
   "mimetype": "text/x-python",
   "name": "python",
   "nbconvert_exporter": "python",
   "pygments_lexer": "ipython3",
   "version": "3.12.3"
  }
 },
 "nbformat": 4,
 "nbformat_minor": 2
}
